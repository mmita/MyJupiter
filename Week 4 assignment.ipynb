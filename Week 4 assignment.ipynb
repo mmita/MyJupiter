{
 "cells": [
  {
   "cell_type": "markdown",
   "id": "adc6c4f5-b207-4cf4-9263-5a7c8b1b122e",
   "metadata": {},
   "source": [
    "<h1>My Jupyter Notebook on IBM Watson Studio</h1>"
   ]
  },
  {
   "cell_type": "markdown",
   "id": "4ad3e727-4459-452e-bdc7-5f370fab79b3",
   "metadata": {},
   "source": [
    "**Kenosi Moetele**"
   ]
  },
  {
   "cell_type": "markdown",
   "id": "34c9e427-ecae-4c73-8bc7-efa8674c4664",
   "metadata": {},
   "source": [
    "Data Scientist"
   ]
  },
  {
   "cell_type": "markdown",
   "id": "03a75ecc-6242-446c-80fd-815b77ec2d5d",
   "metadata": {},
   "source": [
    "*I am interested in data science because I want to use the data that we have in my company to come up with predictions, analysis that can help the company grow in this competitive market*"
   ]
  },
  {
   "cell_type": "markdown",
   "id": "c525d7d6-09b4-4003-9048-d46858219d9b",
   "metadata": {},
   "source": [
    "<h3>Square of 100 </h3>"
   ]
  },
  {
   "cell_type": "code",
   "execution_count": 1,
   "id": "5997b6d3-f9e9-4aa2-9c57-ef9b3dd7fd9f",
   "metadata": {},
   "outputs": [
    {
     "data": {
      "text/plain": [
       "10000"
      ]
     },
     "execution_count": 1,
     "metadata": {},
     "output_type": "execute_result"
    }
   ],
   "source": [
    "100 * 100"
   ]
  },
  {
   "cell_type": "markdown",
   "id": "32704127-c9f0-4823-acd2-d3da250d7eaa",
   "metadata": {},
   "source": [
    "***\n",
    "* Item one\n",
    "* Item two\n",
    "* Item three\n",
    "\n",
    "1. Numbered one\n",
    "1. Numbered two\n",
    "1. Numbered three\n",
    "\n",
    "\n",
    "<a href=\"\">This is a link</a>"
   ]
  },
  {
   "cell_type": "code",
   "execution_count": null,
   "id": "499bb7f7-edc4-4e13-8146-9e309b9008d6",
   "metadata": {},
   "outputs": [],
   "source": []
  }
 ],
 "metadata": {
  "kernelspec": {
   "display_name": "Python",
   "language": "python",
   "name": "conda-env-python-py"
  },
  "language_info": {
   "codemirror_mode": {
    "name": "ipython",
    "version": 3
   },
   "file_extension": ".py",
   "mimetype": "text/x-python",
   "name": "python",
   "nbconvert_exporter": "python",
   "pygments_lexer": "ipython3",
   "version": "3.7.12"
  }
 },
 "nbformat": 4,
 "nbformat_minor": 5
}
